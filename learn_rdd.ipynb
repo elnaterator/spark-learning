{
 "cells": [
  {
   "cell_type": "code",
   "execution_count": 1,
   "metadata": {},
   "outputs": [
    {
     "data": {
      "text/plain": [
       "{'ARTIFACTORY_PASSWORD': 'AKCp8ihVp7CM6JXSbp7SQEf3x5b1Gx7YvnvLYjVcBeC4jJBiWfepC2yr52KqBTFYXFYN7aXPf',\n",
       " 'ARTIFACTORY_USER': 'c11309a',\n",
       " 'COMMAND_MODE': 'unix2003',\n",
       " 'HOME': '/Users/c11309a',\n",
       " 'KAFKA_HOME': '/Users/c11309a/Tools/kafka/kafka_2.13-2.8.0',\n",
       " 'LOGNAME': 'c11309a',\n",
       " 'MallocNanoZone': '0',\n",
       " 'NODE_EXTRA_CA_CERTS': '/Users/c11309a/Tools/certs/mcafee.pem',\n",
       " 'OLDPWD': '/',\n",
       " 'ORIGINAL_XDG_CURRENT_DESKTOP': 'undefined',\n",
       " 'PATH': '/Users/c11309a/Workspace/github-personal/spark-learning/.venv/bin::/Users/c11309a/Tools/spark-3.3.4-bin-hadoop3/bin:/usr/local/bin:/usr/bin:/bin:/usr/sbin:/sbin:/usr/local/go/bin:/Applications/CyberArk EPM.app/Contents/Helpers:/Library/Apple/usr/bin:/Users/c11309a/bin:/Users/c11309a/Tools/kafka/kafka_2.13-2.8.0/bin:/Users/c11309a/Tools/spark-3.3.4-bin-hadoop3/bin:/Users/c11309a/homebrew/bin:/Users/c11309a/Tools/sonar/bin/macosx-universal-64:/Users/c11309a/Tools/protoc/bin:/Users/c11309a/.okta/bin:/Users/c11309a/.local/bin:/usr/local/opt/nginx/bin:/usr/local/sbin:/usr/local/opt/coreutils/libexec/gnubin:/Users/c11309a/Library/Application Support/Coursier/bin',\n",
       " 'PWD': '/',\n",
       " 'PYSPARK_DRIVER_PYTHON': '/Users/c11309a/.local/share/rtx/installs/python/3.10/bin/python',\n",
       " 'PYSPARK_PYTHON': '/Users/c11309a/.local/share/rtx/installs/python/3.10/bin/python',\n",
       " 'PYTHONPATH': '/Users/c11309a/Tools/spark-3.3.4-bin-hadoop3/python:/Users/c11309a/Tools/spark-3.3.4-bin-hadoop3/python/lib/py4j-0.10.9.5-src.zip:/Users/c11309a/Tools/spark-3.3.4-bin-hadoop3/python/lib/pyspark.zip:/Users/c11309a/Tools/spark-3.3.4-bin-hadoop3/python:/Users/c11309a/Tools/spark-3.3.4-bin-hadoop3/python/lib/py4j-0.10.9.5-src.zip:/Users/c11309a/Tools/spark-3.3.4-bin-hadoop3/python/lib/*.zip:',\n",
       " 'REQUESTS_CA_BUNDLE': '/Users/c11309a/.config/pip/cacerts.pem',\n",
       " 'RTX_SHELL': 'zsh',\n",
       " 'SHELL': '/bin/zsh',\n",
       " 'SHLVL': '1',\n",
       " 'SONAR_SCANNER_OPTS': '-Djavax.net.ssl.trustStore=/Users/c11309a/.sonar/sonar.keystore -Djavax.net.ssl.trustStorePassword=changeit',\n",
       " 'SPARK_HOME': '/Users/c11309a/Tools/spark-3.3.4-bin-hadoop3',\n",
       " 'SSH_AUTH_SOCK': '/private/tmp/com.apple.launchd.xiGvLZJPF5/Listeners',\n",
       " 'SSL_CERT_FILE': '/Users/c11309a/.config/pip/cacerts.pem',\n",
       " 'TMPDIR': '/var/folders/yc/s3k6lhps2dx6f_lyhxcddtqm0000gp/T/',\n",
       " 'USER': 'c11309a',\n",
       " 'VSCODE_AMD_ENTRYPOINT': 'vs/workbench/api/node/extensionHostProcess',\n",
       " 'VSCODE_CODE_CACHE_PATH': '/Users/c11309a/Library/Application Support/Code/CachedData/0ee08df0cf4527e40edc9aa28f4b5bd38bbff2b2',\n",
       " 'VSCODE_CRASH_REPORTER_PROCESS_TYPE': 'extensionHost',\n",
       " 'VSCODE_CWD': '/',\n",
       " 'VSCODE_HANDLES_UNCAUGHT_ERRORS': 'true',\n",
       " 'VSCODE_IPC_HOOK': '/Users/c11309a/Library/Application Support/Code/1.85-main.sock',\n",
       " 'VSCODE_NLS_CONFIG': '{\"locale\":\"en-us\",\"osLocale\":\"en-us\",\"availableLanguages\":{},\"_languagePackSupport\":true}',\n",
       " 'VSCODE_PID': '24440',\n",
       " 'XPC_FLAGS': '0x0',\n",
       " 'XPC_SERVICE_NAME': '0',\n",
       " '_': '/Users/c11309a/Workspace/github-personal/spark-learning/.venv/bin/python',\n",
       " '__CFBundleIdentifier': 'com.microsoft.VSCode',\n",
       " '__CF_USER_TEXT_ENCODING': '0x1F6:0x0:0x0',\n",
       " 'ELECTRON_RUN_AS_NODE': '1',\n",
       " 'APPLICATION_INSIGHTS_NO_DIAGNOSTIC_CHANNEL': '1',\n",
       " 'NODE_TLS_REJECT_UNAUTHORIZED': '0',\n",
       " 'AWS_SDK_LOAD_CONFIG': 'true',\n",
       " 'VSCODE_L10N_BUNDLE_LOCATION': '',\n",
       " 'PYTHONUNBUFFERED': '1',\n",
       " 'PYTHONIOENCODING': 'utf-8',\n",
       " 'VIRTUAL_ENV': '/Users/c11309a/Workspace/github-personal/spark-learning/.venv',\n",
       " 'PS1': '(learnspark-py3.10) ',\n",
       " 'VIRTUAL_ENV_PROMPT': 'learnspark-py3.10',\n",
       " 'LC_CTYPE': 'UTF-8',\n",
       " 'PYDEVD_IPYTHON_COMPATIBLE_DEBUGGING': '1',\n",
       " 'PYDEVD_USE_FRAME_EVAL': 'NO',\n",
       " 'TERM': 'xterm-color',\n",
       " 'CLICOLOR': '1',\n",
       " 'FORCE_COLOR': '1',\n",
       " 'CLICOLOR_FORCE': '1',\n",
       " 'PAGER': 'cat',\n",
       " 'GIT_PAGER': 'cat',\n",
       " 'MPLBACKEND': 'module://matplotlib_inline.backend_inline'}"
      ]
     },
     "execution_count": 1,
     "metadata": {},
     "output_type": "execute_result"
    }
   ],
   "source": [
    "# Check our environment variables\n",
    "%env"
   ]
  },
  {
   "cell_type": "code",
   "execution_count": 2,
   "metadata": {},
   "outputs": [
    {
     "name": "stderr",
     "output_type": "stream",
     "text": [
      "Setting default log level to \"WARN\".\n",
      "To adjust logging level use sc.setLogLevel(newLevel). For SparkR, use setLogLevel(newLevel).\n"
     ]
    },
    {
     "name": "stdout",
     "output_type": "stream",
     "text": [
      "23/12/26 23:18:16 WARN NativeCodeLoader: Unable to load native-hadoop library for your platform... using builtin-java classes where applicable\n"
     ]
    },
    {
     "data": {
      "text/html": [
       "\n",
       "            <div>\n",
       "                <p><b>SparkSession - in-memory</b></p>\n",
       "                \n",
       "        <div>\n",
       "            <p><b>SparkContext</b></p>\n",
       "\n",
       "            <p><a href=\"http://10.0.0.104:4040\">Spark UI</a></p>\n",
       "\n",
       "            <dl>\n",
       "              <dt>Version</dt>\n",
       "                <dd><code>v3.3.4</code></dd>\n",
       "              <dt>Master</dt>\n",
       "                <dd><code>local[3]</code></dd>\n",
       "              <dt>AppName</dt>\n",
       "                <dd><code>learn_rdd</code></dd>\n",
       "            </dl>\n",
       "        </div>\n",
       "        \n",
       "            </div>\n",
       "        "
      ],
      "text/plain": [
       "<pyspark.sql.session.SparkSession at 0x10b483010>"
      ]
     },
     "execution_count": 2,
     "metadata": {},
     "output_type": "execute_result"
    }
   ],
   "source": [
    "# Create a spark session\n",
    "from pyspark.sql import SparkSession\n",
    "from pyspark.sql.types import *\n",
    "\n",
    "spark = SparkSession.builder.appName(\"learn_rdd\").master(\"local[3]\").getOrCreate()\n",
    "\n",
    "spark"
   ]
  },
  {
   "cell_type": "code",
   "execution_count": 3,
   "metadata": {},
   "outputs": [],
   "source": [
    "# Create a spark context\n",
    "sc = spark.sparkContext"
   ]
  },
  {
   "cell_type": "code",
   "execution_count": 5,
   "metadata": {},
   "outputs": [],
   "source": [
    "# Create an RDD from reading a csv file with a header\n",
    "rdd = sc.textFile(\"data/cities.csv\")"
   ]
  },
  {
   "cell_type": "code",
   "execution_count": 6,
   "metadata": {},
   "outputs": [],
   "source": [
    "# Split the CSV file into columns\n",
    "rdd = rdd.map(lambda x: x.split(\",\"))"
   ]
  },
  {
   "cell_type": "code",
   "execution_count": 7,
   "metadata": {},
   "outputs": [],
   "source": [
    "# Add an address field that concatenates the city, state, zip\n",
    "rdd = rdd.map(lambda x: x + [x[0] + \", \" + x[1] + \" \" + x[2]])"
   ]
  },
  {
   "cell_type": "code",
   "execution_count": 8,
   "metadata": {},
   "outputs": [
    {
     "name": "stdout",
     "output_type": "stream",
     "text": [
      "2\n"
     ]
    }
   ],
   "source": [
    "# Check how many partitions we have\n",
    "print(rdd.getNumPartitions())"
   ]
  },
  {
   "cell_type": "code",
   "execution_count": 9,
   "metadata": {},
   "outputs": [
    {
     "name": "stderr",
     "output_type": "stream",
     "text": [
      "[Stage 0:>                                                          (0 + 2) / 2]\r"
     ]
    },
    {
     "name": "stdout",
     "output_type": "stream",
     "text": [
      "[['Seattle', 'WA', 'USA', '98101', '652405', 'Seattle, WA USA'], ['Bellingham', 'WA', 'USA', '98225', '82235', 'Bellingham, WA USA'], ['Portland', 'OR', 'USA', '97201', '609456', 'Portland, OR USA'], ['Eugene', 'OR', 'USA', '97401', '221452', 'Eugene, OR USA'], ['San Francisco', 'CA', 'USA', '94101', '837442', 'San Francisco, CA USA'], ['Los Angeles', 'CA', 'USA', '90001', '3884307', 'Los Angeles, CA USA']]\n"
     ]
    },
    {
     "name": "stderr",
     "output_type": "stream",
     "text": [
      "                                                                                \r"
     ]
    }
   ],
   "source": [
    "# Show contents of rdd\n",
    "print(rdd.collect())"
   ]
  },
  {
   "cell_type": "code",
   "execution_count": 10,
   "metadata": {},
   "outputs": [
    {
     "name": "stderr",
     "output_type": "stream",
     "text": [
      "/Users/c11309a/Tools/spark-3.3.4-bin-hadoop3/python/lib/pyspark.zip/pyspark/shuffle.py:65: UserWarning: Please install psutil to have better support with spilling\n",
      "/Users/c11309a/Tools/spark-3.3.4-bin-hadoop3/python/lib/pyspark.zip/pyspark/shuffle.py:65: UserWarning: Please install psutil to have better support with spilling\n"
     ]
    },
    {
     "name": "stdout",
     "output_type": "stream",
     "text": [
      "[('CA', 4721749), ('WA', 734640), ('OR', 830908)]\n"
     ]
    }
   ],
   "source": [
    "# Aggregate the data by getting a sum of population by state\n",
    "rdd = rdd.map(lambda x: (x[1], int(x[4])))\n",
    "rdd = rdd.reduceByKey(lambda x, y: x + y)\n",
    "print(rdd.collect())"
   ]
  }
 ],
 "metadata": {
  "kernelspec": {
   "display_name": ".venv",
   "language": "python",
   "name": "python3"
  },
  "language_info": {
   "codemirror_mode": {
    "name": "ipython",
    "version": 3
   },
   "file_extension": ".py",
   "mimetype": "text/x-python",
   "name": "python",
   "nbconvert_exporter": "python",
   "pygments_lexer": "ipython3",
   "version": "3.10.13"
  }
 },
 "nbformat": 4,
 "nbformat_minor": 2
}
