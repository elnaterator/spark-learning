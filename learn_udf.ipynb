{
 "cells": [
  {
   "cell_type": "code",
   "execution_count": 1,
   "metadata": {},
   "outputs": [
    {
     "name": "stdout",
     "output_type": "stream",
     "text": [
      "PYSPARK_DRIVER_PYTHON=/Users/c11309a/.local/share/rtx/installs/python/3.10/bin/python\n",
      "PYSPARK_PYTHON=/Users/c11309a/.local/share/rtx/installs/python/3.10/bin/python\n",
      "PYTHONPATH=/Users/c11309a/Tools/spark-3.3.4-bin-hadoop3/python:/Users/c11309a/Tools/spark-3.3.4-bin-hadoop3/python/lib/py4j-0.10.9.5-src.zip:/Users/c11309a/Tools/spark-3.3.4-bin-hadoop3/python/lib/pyspark.zip:/Users/c11309a/Tools/spark-3.3.4-bin-hadoop3/python:/Users/c11309a/Tools/spark-3.3.4-bin-hadoop3/python/lib/py4j-0.10.9.5-src.zip:/Users/c11309a/Tools/spark-3.3.4-bin-hadoop3/python/lib/*.zip:\n",
      "SPARK_HOME=/Users/c11309a/Tools/spark-3.3.4-bin-hadoop3\n",
      "PYTHONUNBUFFERED=1\n",
      "PYTHONIOENCODING=utf-8\n",
      "PYDEVD_IPYTHON_COMPATIBLE_DEBUGGING=1\n"
     ]
    }
   ],
   "source": [
    "# Check env vars\n",
    "!env | grep -e \"SPARK\" -e \"PYTHON\""
   ]
  },
  {
   "cell_type": "code",
   "execution_count": 2,
   "metadata": {},
   "outputs": [
    {
     "name": "stderr",
     "output_type": "stream",
     "text": [
      "Setting default log level to \"WARN\".\n",
      "To adjust logging level use sc.setLogLevel(newLevel). For SparkR, use setLogLevel(newLevel).\n"
     ]
    },
    {
     "name": "stdout",
     "output_type": "stream",
     "text": [
      "23/12/27 17:37:05 WARN NativeCodeLoader: Unable to load native-hadoop library for your platform... using builtin-java classes where applicable\n",
      "23/12/27 17:37:06 WARN Utils: Service 'SparkUI' could not bind on port 4040. Attempting port 4041.\n"
     ]
    },
    {
     "data": {
      "text/html": [
       "\n",
       "            <div>\n",
       "                <p><b>SparkSession - in-memory</b></p>\n",
       "                \n",
       "        <div>\n",
       "            <p><b>SparkContext</b></p>\n",
       "\n",
       "            <p><a href=\"http://10.0.0.150:4041\">Spark UI</a></p>\n",
       "\n",
       "            <dl>\n",
       "              <dt>Version</dt>\n",
       "                <dd><code>v3.3.4</code></dd>\n",
       "              <dt>Master</dt>\n",
       "                <dd><code>local[4]</code></dd>\n",
       "              <dt>AppName</dt>\n",
       "                <dd><code>learn_dataframes</code></dd>\n",
       "            </dl>\n",
       "        </div>\n",
       "        \n",
       "            </div>\n",
       "        "
      ],
      "text/plain": [
       "<pyspark.sql.session.SparkSession at 0x105a669b0>"
      ]
     },
     "execution_count": 2,
     "metadata": {},
     "output_type": "execute_result"
    }
   ],
   "source": [
    "# Create a spark session\n",
    "from pyspark.sql import SparkSession\n",
    "\n",
    "spark = (\n",
    "            SparkSession.builder.appName(\"learn_dataframes\")\n",
    "                .master(\"local[4]\")\n",
    "                .getOrCreate()\n",
    "        )\n",
    "\n",
    "sc = spark.sparkContext\n",
    "\n",
    "spark"
   ]
  },
  {
   "cell_type": "code",
   "execution_count": 3,
   "metadata": {},
   "outputs": [],
   "source": [
    "# Create a udf\n",
    "from pyspark.sql.functions import udf\n",
    "from pyspark.sql.types import StringType, IntegerType\n",
    "\n",
    "def get_first_letter(word):\n",
    "    return word[0]\n",
    "\n",
    "get_first_letter_udf = udf(get_first_letter, StringType())"
   ]
  },
  {
   "cell_type": "code",
   "execution_count": 4,
   "metadata": {},
   "outputs": [
    {
     "name": "stderr",
     "output_type": "stream",
     "text": [
      "[Stage 0:>                                                          (0 + 1) / 1]\r"
     ]
    },
    {
     "name": "stdout",
     "output_type": "stream",
     "text": [
      "+--------+\n",
      "|    word|\n",
      "+--------+\n",
      "|     cat|\n",
      "|elephant|\n",
      "|     rat|\n",
      "|     rat|\n",
      "|     cat|\n",
      "+--------+\n",
      "\n"
     ]
    },
    {
     "name": "stderr",
     "output_type": "stream",
     "text": [
      "                                                                                \r"
     ]
    }
   ],
   "source": [
    "# Create a dataframe\n",
    "from pyspark.sql.functions import col\n",
    "\n",
    "df = spark.createDataFrame(\n",
    "    [\n",
    "        (\"cat\",),\n",
    "        (\"elephant\",),\n",
    "        (\"rat\",),\n",
    "        (\"rat\",),\n",
    "        (\"cat\",),\n",
    "    ],\n",
    "    [\"word\"]\n",
    ")\n",
    "\n",
    "df.show()"
   ]
  },
  {
   "cell_type": "code",
   "execution_count": 5,
   "metadata": {},
   "outputs": [
    {
     "name": "stderr",
     "output_type": "stream",
     "text": [
      "                                                                                \r"
     ]
    },
    {
     "name": "stdout",
     "output_type": "stream",
     "text": [
      "+--------+------------+\n",
      "|    word|first_letter|\n",
      "+--------+------------+\n",
      "|     cat|           c|\n",
      "|elephant|           e|\n",
      "|     rat|           r|\n",
      "|     rat|           r|\n",
      "|     cat|           c|\n",
      "+--------+------------+\n",
      "\n"
     ]
    }
   ],
   "source": [
    "# Use the udf to add a column to the dataframe\n",
    "df.withColumn(\"first_letter\", get_first_letter_udf(col(\"word\"))).show()"
   ]
  },
  {
   "cell_type": "code",
   "execution_count": 7,
   "metadata": {},
   "outputs": [
    {
     "name": "stdout",
     "output_type": "stream",
     "text": [
      "+---------------------------------+\n",
      "|full_address                     |\n",
      "+---------------------------------+\n",
      "|123 Main St, Buffalo NY 14201    |\n",
      "|456 Pine St, Bellingham WA 98226 |\n",
      "|789 Maple St, Sacramento CA 94203|\n",
      "+---------------------------------+\n",
      "\n"
     ]
    }
   ],
   "source": [
    "# Create a dataframe with a list full_addresses that include street, city, state, zip in a single column\n",
    "from pyspark.sql.types import StructType, StructField, StringType, IntegerType\n",
    "\n",
    "df = spark.createDataFrame(\n",
    "    [\n",
    "        (\"123 Main St, Buffalo NY 14201\",),\n",
    "        (\"456 Pine St, Bellingham WA 98226\",),\n",
    "        (\"789 Maple St, Sacramento CA 94203\",),\n",
    "    ],\n",
    "    [\"full_address\"]\n",
    ")\n",
    "\n",
    "df.show(truncate=False)"
   ]
  },
  {
   "cell_type": "code",
   "execution_count": 8,
   "metadata": {},
   "outputs": [
    {
     "name": "stdout",
     "output_type": "stream",
     "text": [
      "+------------+----------+-----+-----+\n",
      "|street      |city      |state|zip  |\n",
      "+------------+----------+-----+-----+\n",
      "|123 Main St |Buffalo   |NY   |14201|\n",
      "|456 Pine St |Bellingham|WA   |98226|\n",
      "|789 Maple St|Sacramento|CA   |94203|\n",
      "+------------+----------+-----+-----+\n",
      "\n"
     ]
    }
   ],
   "source": [
    "# Create a udf to parse the full_address column into a struct with street, city, state, zip\n",
    "from pyspark.sql.functions import udf\n",
    "from pyspark.sql.types import StructType, StructField, StringType, IntegerType\n",
    "\n",
    "def parse_address(full_address):\n",
    "    street, city_state = full_address.split(\", \")\n",
    "    city, state, zip = city_state.split(\" \")\n",
    "    return (street, city, state, zip)\n",
    "\n",
    "parse_address_udf = udf(parse_address, StructType([\n",
    "    StructField(\"street\", StringType(), True),\n",
    "    StructField(\"city\", StringType(), True),\n",
    "    StructField(\"state\", StringType(), True),\n",
    "    StructField(\"zip\", StringType(), True),\n",
    "]))\n",
    "\n",
    "# Use the udf to create a new dataframe with the parsed address in four separate columns\n",
    "df = (\n",
    "    df.withColumn(\"address\", parse_address_udf(col(\"full_address\"))).select(\n",
    "        col(\"address.street\"),\n",
    "        col(\"address.city\"),\n",
    "        col(\"address.state\"),\n",
    "        col(\"address.zip\"),\n",
    "    )\n",
    ")\n",
    "\n",
    "df.show(truncate=False)"
   ]
  },
  {
   "cell_type": "code",
   "execution_count": 19,
   "metadata": {},
   "outputs": [
    {
     "data": {
      "text/plain": [
       "[{'name': 'id', 'length': 5, 'type': 'integer'},\n",
       " {'name': 'name', 'length': 10, 'type': 'string'},\n",
       " {'name': 'age', 'length': 3, 'type': 'integer'}]"
      ]
     },
     "execution_count": 19,
     "metadata": {},
     "output_type": "execute_result"
    }
   ],
   "source": [
    "# Read yaml file width fixed width field definitions\n",
    "import yaml\n",
    "fwf_fields = []\n",
    "with open(\"data/fwf_fields.yaml\", \"r\") as f:\n",
    "    fwf_fields = yaml.load(f, yaml.SafeLoader)['fields']\n",
    "    \n",
    "fwf_fields"
   ]
  },
  {
   "cell_type": "code",
   "execution_count": 53,
   "metadata": {},
   "outputs": [
    {
     "name": "stdout",
     "output_type": "stream",
     "text": [
      "StructType([StructField('id', IntegerType(), True), StructField('name', StringType(), True), StructField('age', IntegerType(), True)])\n"
     ]
    },
    {
     "data": {
      "text/plain": [
       "[(StructField('id', IntegerType(), True), 5),\n",
       " (StructField('name', StringType(), True), 10),\n",
       " (StructField('age', IntegerType(), True), 3)]"
      ]
     },
     "execution_count": 53,
     "metadata": {},
     "output_type": "execute_result"
    }
   ],
   "source": [
    "# Build schema and list of field lengths\n",
    "from pyspark.sql.types import StructType, StructField, StringType, IntegerType, DataType\n",
    "\n",
    "schema = StructType()\n",
    "fields = []\n",
    "\n",
    "def get_type(type: str) -> DataType:\n",
    "    if type == \"string\":\n",
    "        return StringType()\n",
    "    elif type == \"integer\":\n",
    "        return IntegerType()\n",
    "    else:\n",
    "        return StringType()\n",
    "\n",
    "# add fields to schema and lengths to lengths list\n",
    "for fdef in fwf_fields:\n",
    "    field = StructField(fdef[\"name\"], get_type(fdef['type']))\n",
    "    fields.append((\n",
    "        StructField(fdef[\"name\"], get_type(fdef['type']), True), \n",
    "        fdef[\"length\"]\n",
    "    ))\n",
    "    schema.add(field)\n",
    "\n",
    "print(schema)\n",
    "fields"
   ]
  },
  {
   "cell_type": "code",
   "execution_count": 54,
   "metadata": {},
   "outputs": [],
   "source": [
    "# Create udf from lengths list that parses a line into a list of values\n",
    "from typing import List, Tuple\n",
    "\n",
    "def parse_line_factory(fields: Tuple[StructField, int]):\n",
    "    def parse_line(line: str) -> List[str]:\n",
    "        i = 0\n",
    "        values = []\n",
    "        for f in fields:\n",
    "            \n",
    "            # get type of field\n",
    "            t = f[0].dataType\n",
    "            \n",
    "            # get length of field\n",
    "            l = f[1]\n",
    "            \n",
    "            strVal = line[i:i+l].strip()\n",
    "            \n",
    "            # convert to correct type\n",
    "            if t == IntegerType():\n",
    "                v = int(strVal)\n",
    "            else:\n",
    "                v = strVal\n",
    "            \n",
    "            values.append(v)\n",
    "            i += l\n",
    "        return values\n",
    "    return parse_line\n",
    "\n",
    "parse_line_udf = udf(parse_line_factory(fields), schema)"
   ]
  },
  {
   "cell_type": "code",
   "execution_count": 55,
   "metadata": {},
   "outputs": [
    {
     "data": {
      "text/plain": [
       "[1, 'John Doe', 25]"
      ]
     },
     "execution_count": 55,
     "metadata": {},
     "output_type": "execute_result"
    }
   ],
   "source": [
    "# Test parse_line function\n",
    "parse_line_factory(fields)(\"1    John Doe  025\")"
   ]
  },
  {
   "cell_type": "code",
   "execution_count": 61,
   "metadata": {},
   "outputs": [
    {
     "name": "stdout",
     "output_type": "stream",
     "text": [
      "+------------------+\n",
      "|value             |\n",
      "+------------------+\n",
      "|1    John Doe  025|\n",
      "|2    Jane Doe  030|\n",
      "|3    Jim Smith 035|\n",
      "|4    Ann Brown 040|\n",
      "|5    Tom Davis 045|\n",
      "+------------------+\n",
      "\n"
     ]
    }
   ],
   "source": [
    "# Create a dataframe from the fixed width file data/people.txt\n",
    "df = spark.read.text(\"data/people.txt\")\n",
    "df.show(truncate=False)"
   ]
  },
  {
   "cell_type": "code",
   "execution_count": 62,
   "metadata": {},
   "outputs": [
    {
     "name": "stdout",
     "output_type": "stream",
     "text": [
      "+------------------+------------------+\n",
      "|value             |parsed            |\n",
      "+------------------+------------------+\n",
      "|1    John Doe  025|{1, John Doe, 25} |\n",
      "|2    Jane Doe  030|{2, Jane Doe, 30} |\n",
      "|3    Jim Smith 035|{3, Jim Smith, 35}|\n",
      "|4    Ann Brown 040|{4, Ann Brown, 40}|\n",
      "|5    Tom Davis 045|{5, Tom Davis, 45}|\n",
      "+------------------+------------------+\n",
      "\n"
     ]
    }
   ],
   "source": [
    "# Use the udf to parse the lines into a dataframe\n",
    "df = df.withColumn(\"parsed\", parse_line_udf(col(\"value\")))\n",
    "df.show(truncate=False)"
   ]
  },
  {
   "cell_type": "code",
   "execution_count": 63,
   "metadata": {},
   "outputs": [
    {
     "name": "stdout",
     "output_type": "stream",
     "text": [
      "+---+---------+---+\n",
      "|id |name     |age|\n",
      "+---+---------+---+\n",
      "|1  |John Doe |25 |\n",
      "|2  |Jane Doe |30 |\n",
      "|3  |Jim Smith|35 |\n",
      "|4  |Ann Brown|40 |\n",
      "|5  |Tom Davis|45 |\n",
      "+---+---------+---+\n",
      "\n"
     ]
    }
   ],
   "source": [
    "# Now create a df with just the parsed values\n",
    "df = df.select(col(\"parsed.*\"))\n",
    "df.show(truncate=False)"
   ]
  }
 ],
 "metadata": {
  "kernelspec": {
   "display_name": ".venv",
   "language": "python",
   "name": "python3"
  },
  "language_info": {
   "codemirror_mode": {
    "name": "ipython",
    "version": 3
   },
   "file_extension": ".py",
   "mimetype": "text/x-python",
   "name": "python",
   "nbconvert_exporter": "python",
   "pygments_lexer": "ipython3",
   "version": "3.10.13"
  }
 },
 "nbformat": 4,
 "nbformat_minor": 2
}
