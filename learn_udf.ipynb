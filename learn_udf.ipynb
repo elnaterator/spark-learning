{
 "cells": [
  {
   "cell_type": "code",
   "execution_count": 23,
   "metadata": {},
   "outputs": [
    {
     "name": "stdout",
     "output_type": "stream",
     "text": [
      "PYSPARK_DRIVER_PYTHON=/Users/c11309a/.local/share/rtx/installs/python/3.10/bin/python\n",
      "PYSPARK_PYTHON=/Users/c11309a/.local/share/rtx/installs/python/3.10/bin/python\n",
      "PYTHONPATH=/Users/c11309a/Tools/spark-3.3.4-bin-hadoop3/python:/Users/c11309a/Tools/spark-3.3.4-bin-hadoop3/python/lib/py4j-0.10.9.5-src.zip:/Users/c11309a/Tools/spark-3.3.4-bin-hadoop3/python/lib/pyspark.zip:/Users/c11309a/Tools/spark-3.3.4-bin-hadoop3/python:/Users/c11309a/Tools/spark-3.3.4-bin-hadoop3/python/lib/py4j-0.10.9.5-src.zip:/Users/c11309a/Tools/spark-3.3.4-bin-hadoop3/python/lib/*.zip:\n",
      "SPARK_HOME=/Users/c11309a/Tools/spark-3.3.4-bin-hadoop3\n",
      "PYTHONUNBUFFERED=1\n",
      "PYTHONIOENCODING=utf-8\n",
      "PYDEVD_IPYTHON_COMPATIBLE_DEBUGGING=1\n",
      "SPARK_AUTH_SOCKET_TIMEOUT=15\n",
      "SPARK_BUFFER_SIZE=65536\n"
     ]
    }
   ],
   "source": [
    "# Check env vars\n",
    "!env | grep -e \"SPARK\" -e \"PYTHON\""
   ]
  },
  {
   "cell_type": "markdown",
   "metadata": {},
   "source": [
    "# Basic UDF"
   ]
  },
  {
   "cell_type": "code",
   "execution_count": 24,
   "metadata": {},
   "outputs": [
    {
     "data": {
      "text/html": [
       "\n",
       "            <div>\n",
       "                <p><b>SparkSession - in-memory</b></p>\n",
       "                \n",
       "        <div>\n",
       "            <p><b>SparkContext</b></p>\n",
       "\n",
       "            <p><a href=\"http://10.0.0.150:4041\">Spark UI</a></p>\n",
       "\n",
       "            <dl>\n",
       "              <dt>Version</dt>\n",
       "                <dd><code>v3.3.4</code></dd>\n",
       "              <dt>Master</dt>\n",
       "                <dd><code>local[4]</code></dd>\n",
       "              <dt>AppName</dt>\n",
       "                <dd><code>learn_dataframes</code></dd>\n",
       "            </dl>\n",
       "        </div>\n",
       "        \n",
       "            </div>\n",
       "        "
      ],
      "text/plain": [
       "<pyspark.sql.session.SparkSession at 0x107510e50>"
      ]
     },
     "execution_count": 24,
     "metadata": {},
     "output_type": "execute_result"
    }
   ],
   "source": [
    "# Create a spark session\n",
    "from pyspark.sql import SparkSession\n",
    "\n",
    "spark = (\n",
    "            SparkSession.builder.appName(\"learn_dataframes\")\n",
    "                .master(\"local[4]\")\n",
    "                .getOrCreate()\n",
    "        )\n",
    "\n",
    "sc = spark.sparkContext\n",
    "\n",
    "spark"
   ]
  },
  {
   "cell_type": "code",
   "execution_count": 25,
   "metadata": {},
   "outputs": [],
   "source": [
    "# Create a udf\n",
    "from pyspark.sql.functions import udf\n",
    "from pyspark.sql.types import StringType, IntegerType\n",
    "\n",
    "def get_first_letter(word):\n",
    "    return word[0]\n",
    "\n",
    "get_first_letter_udf = udf(get_first_letter, StringType())"
   ]
  },
  {
   "cell_type": "code",
   "execution_count": 26,
   "metadata": {},
   "outputs": [
    {
     "name": "stderr",
     "output_type": "stream",
     "text": [
      "[Stage 4:>                                                          (0 + 1) / 1]\r"
     ]
    },
    {
     "name": "stdout",
     "output_type": "stream",
     "text": [
      "+--------+\n",
      "|    word|\n",
      "+--------+\n",
      "|     cat|\n",
      "|elephant|\n",
      "|     rat|\n",
      "|     rat|\n",
      "|     cat|\n",
      "+--------+\n",
      "\n"
     ]
    },
    {
     "name": "stderr",
     "output_type": "stream",
     "text": [
      "                                                                                \r"
     ]
    }
   ],
   "source": [
    "# Create a dataframe\n",
    "from pyspark.sql.functions import col\n",
    "\n",
    "df = spark.createDataFrame(\n",
    "    [\n",
    "        (\"cat\",),\n",
    "        (\"elephant\",),\n",
    "        (\"rat\",),\n",
    "        (\"rat\",),\n",
    "        (\"cat\",),\n",
    "    ],\n",
    "    [\"word\"]\n",
    ")\n",
    "\n",
    "df.show()"
   ]
  },
  {
   "cell_type": "code",
   "execution_count": 27,
   "metadata": {},
   "outputs": [
    {
     "name": "stdout",
     "output_type": "stream",
     "text": [
      "+--------+------------+\n",
      "|    word|first_letter|\n",
      "+--------+------------+\n",
      "|     cat|           c|\n",
      "|elephant|           e|\n",
      "|     rat|           r|\n",
      "|     rat|           r|\n",
      "|     cat|           c|\n",
      "+--------+------------+\n",
      "\n"
     ]
    }
   ],
   "source": [
    "# Use the udf to add a column to the dataframe\n",
    "df.withColumn(\"first_letter\", get_first_letter_udf(col(\"word\"))).show()"
   ]
  },
  {
   "cell_type": "markdown",
   "metadata": {},
   "source": [
    "# Retrieve multiple fields from UDF"
   ]
  },
  {
   "cell_type": "code",
   "execution_count": 28,
   "metadata": {},
   "outputs": [
    {
     "name": "stdout",
     "output_type": "stream",
     "text": [
      "+---------------------------------+\n",
      "|full_address                     |\n",
      "+---------------------------------+\n",
      "|123 Main St, Buffalo NY 14201    |\n",
      "|456 Pine St, Bellingham WA 98226 |\n",
      "|789 Maple St, Sacramento CA 94203|\n",
      "+---------------------------------+\n",
      "\n"
     ]
    }
   ],
   "source": [
    "# Create a dataframe with a list full_addresses that include street, city, state, zip in a single column\n",
    "from pyspark.sql.types import StructType, StructField, StringType, IntegerType\n",
    "\n",
    "df = spark.createDataFrame(\n",
    "    [\n",
    "        (\"123 Main St, Buffalo NY 14201\",),\n",
    "        (\"456 Pine St, Bellingham WA 98226\",),\n",
    "        (\"789 Maple St, Sacramento CA 94203\",),\n",
    "    ],\n",
    "    [\"full_address\"]\n",
    ")\n",
    "\n",
    "df.show(truncate=False)"
   ]
  },
  {
   "cell_type": "code",
   "execution_count": 29,
   "metadata": {},
   "outputs": [
    {
     "name": "stdout",
     "output_type": "stream",
     "text": [
      "+------------+----------+-----+-----+\n",
      "|street      |city      |state|zip  |\n",
      "+------------+----------+-----+-----+\n",
      "|123 Main St |Buffalo   |NY   |14201|\n",
      "|456 Pine St |Bellingham|WA   |98226|\n",
      "|789 Maple St|Sacramento|CA   |94203|\n",
      "+------------+----------+-----+-----+\n",
      "\n"
     ]
    }
   ],
   "source": [
    "# Create a udf to parse the full_address column into a struct with street, city, state, zip\n",
    "from pyspark.sql.functions import udf\n",
    "from pyspark.sql.types import StructType, StructField, StringType, IntegerType\n",
    "\n",
    "def parse_address(full_address):\n",
    "    street, city_state = full_address.split(\", \")\n",
    "    city, state, zip = city_state.split(\" \")\n",
    "    return (street, city, state, zip)\n",
    "\n",
    "parse_address_udf = udf(parse_address, StructType([\n",
    "    StructField(\"street\", StringType(), True),\n",
    "    StructField(\"city\", StringType(), True),\n",
    "    StructField(\"state\", StringType(), True),\n",
    "    StructField(\"zip\", StringType(), True),\n",
    "]))\n",
    "\n",
    "# Use the udf to create a new dataframe with the parsed address in four separate columns\n",
    "df = (\n",
    "    df.withColumn(\"address\", parse_address_udf(col(\"full_address\"))).select(\n",
    "        col(\"address.street\"),\n",
    "        col(\"address.city\"),\n",
    "        col(\"address.state\"),\n",
    "        col(\"address.zip\"),\n",
    "    )\n",
    ")\n",
    "\n",
    "df.show(truncate=False)"
   ]
  },
  {
   "cell_type": "markdown",
   "metadata": {},
   "source": [
    "# Parse FWF file using a dynamic spec"
   ]
  },
  {
   "cell_type": "code",
   "execution_count": 30,
   "metadata": {},
   "outputs": [
    {
     "data": {
      "text/plain": [
       "[{'name': 'id', 'length': 5, 'type': 'integer'},\n",
       " {'name': 'name', 'length': 10, 'type': 'string'},\n",
       " {'name': 'age', 'length': 3, 'type': 'integer'}]"
      ]
     },
     "execution_count": 30,
     "metadata": {},
     "output_type": "execute_result"
    }
   ],
   "source": [
    "# Read yaml file width fixed width field spec\n",
    "import yaml\n",
    "\n",
    "with open(\"data/fwf_fields.yaml\", \"r\") as f:\n",
    "    fwf_field_spec = yaml.load(f, yaml.SafeLoader)['fields']\n",
    "    \n",
    "fwf_field_spec"
   ]
  },
  {
   "cell_type": "code",
   "execution_count": 31,
   "metadata": {},
   "outputs": [
    {
     "name": "stdout",
     "output_type": "stream",
     "text": [
      "StructType([StructField('id', IntegerType(), True), StructField('name', StringType(), True), StructField('age', IntegerType(), True)])\n",
      "{'length': 5}\n"
     ]
    }
   ],
   "source": [
    "# Build dynamic schema with metadata for length from spec\n",
    "from typing import List\n",
    "from pyspark.sql.types import StructType, StructField, StringType, IntegerType, DataType\n",
    "\n",
    "# Get the data type from string value\n",
    "def get_type(type: str) -> DataType:\n",
    "    if type == \"string\":\n",
    "        return StringType()\n",
    "    elif type == \"integer\":\n",
    "        return IntegerType()\n",
    "    else:\n",
    "        return StringType()\n",
    "\n",
    "# Build the schema, adding metadata for length\n",
    "schema = StructType()\n",
    "for f in fwf_field_spec:\n",
    "    t = get_type(f['type'])\n",
    "    schema.add(StructField(f[\"name\"], t, True, {\"length\": f[\"length\"]}))\n",
    "    \n",
    "print(schema)\n",
    "print(schema[0].metadata)"
   ]
  },
  {
   "cell_type": "code",
   "execution_count": 32,
   "metadata": {},
   "outputs": [
    {
     "data": {
      "text/plain": [
       "[1, 'John Doe', 25]"
      ]
     },
     "execution_count": 32,
     "metadata": {},
     "output_type": "execute_result"
    }
   ],
   "source": [
    "# Create function factory to parse a line of text based on given schema\n",
    "from typing import List, Tuple\n",
    "\n",
    "def parse_line_factory(schema: StructType):\n",
    "    \n",
    "    def parse_line(line: str) -> List[str]:\n",
    "        \n",
    "        start = 0\n",
    "        values = []\n",
    "        for f in schema.fields:\n",
    "            \n",
    "            # get the string value\n",
    "            length = f.metadata['length']\n",
    "            strVal = line[start:start+length].strip()\n",
    "            start += length\n",
    "            \n",
    "            # convert to correct type and add to list\n",
    "            type = f.dataType\n",
    "            if type == IntegerType():\n",
    "                val = int(strVal)\n",
    "            else:\n",
    "                val = strVal\n",
    "            values.append(val)\n",
    "            \n",
    "        return values\n",
    "    \n",
    "    return parse_line\n",
    "\n",
    "# Test parse_line function\n",
    "parse_line_factory(schema)(\"1    John Doe  025\")"
   ]
  },
  {
   "cell_type": "code",
   "execution_count": 33,
   "metadata": {},
   "outputs": [],
   "source": [
    "# Create a udf to parse a line of text based on given schema\n",
    "from pyspark.sql.functions import udf\n",
    "\n",
    "parse_line_udf = udf(parse_line_factory(schema), schema)"
   ]
  },
  {
   "cell_type": "code",
   "execution_count": 34,
   "metadata": {},
   "outputs": [
    {
     "name": "stdout",
     "output_type": "stream",
     "text": [
      "+------------------+\n",
      "|value             |\n",
      "+------------------+\n",
      "|1    John Doe  025|\n",
      "|2    Jane Doe  030|\n",
      "|3    Jim Smith 035|\n",
      "|4    Ann Brown 040|\n",
      "|5    Tom Davis 045|\n",
      "+------------------+\n",
      "\n"
     ]
    }
   ],
   "source": [
    "# Create a dataframe from the fixed width file data/people.txt\n",
    "df = spark.read.text(\"data/people.txt\")\n",
    "df.show(truncate=False)"
   ]
  },
  {
   "cell_type": "code",
   "execution_count": 35,
   "metadata": {},
   "outputs": [
    {
     "name": "stdout",
     "output_type": "stream",
     "text": [
      "+------------------+------------------+\n",
      "|value             |parsed            |\n",
      "+------------------+------------------+\n",
      "|1    John Doe  025|{1, John Doe, 25} |\n",
      "|2    Jane Doe  030|{2, Jane Doe, 30} |\n",
      "|3    Jim Smith 035|{3, Jim Smith, 35}|\n",
      "|4    Ann Brown 040|{4, Ann Brown, 40}|\n",
      "|5    Tom Davis 045|{5, Tom Davis, 45}|\n",
      "+------------------+------------------+\n",
      "\n"
     ]
    }
   ],
   "source": [
    "# Use the udf to add complex column to the dataframe with parsed values\n",
    "from pyspark.sql.functions import col\n",
    "\n",
    "df = df.withColumn(\"parsed\", parse_line_udf(col(\"value\")))\n",
    "df.show(truncate=False)"
   ]
  },
  {
   "cell_type": "code",
   "execution_count": 36,
   "metadata": {},
   "outputs": [
    {
     "name": "stdout",
     "output_type": "stream",
     "text": [
      "+---+---------+---+\n",
      "|id |name     |age|\n",
      "+---+---------+---+\n",
      "|1  |John Doe |25 |\n",
      "|2  |Jane Doe |30 |\n",
      "|3  |Jim Smith|35 |\n",
      "|4  |Ann Brown|40 |\n",
      "|5  |Tom Davis|45 |\n",
      "+---+---------+---+\n",
      "\n"
     ]
    }
   ],
   "source": [
    "# Now create a df with just the parsed values\n",
    "df = df.select(col(\"parsed.*\"))\n",
    "df.show(truncate=False)"
   ]
  },
  {
   "cell_type": "code",
   "execution_count": 37,
   "metadata": {},
   "outputs": [
    {
     "name": "stdout",
     "output_type": "stream",
     "text": [
      "+---+---------+---+\n",
      "|id |name     |age|\n",
      "+---+---------+---+\n",
      "|1  |John Doe |25 |\n",
      "|2  |Jane Doe |30 |\n",
      "|3  |Jim Smith|35 |\n",
      "|4  |Ann Brown|40 |\n",
      "|5  |Tom Davis|45 |\n",
      "+---+---------+---+\n",
      "\n"
     ]
    }
   ],
   "source": [
    "# Now do all of that in 1 shot\n",
    "(\n",
    "    spark.read.text(\"data/people.txt\")\n",
    "        .withColumn(\"parsed\", parse_line_udf(col(\"value\")))\n",
    "        .select(col(\"parsed.*\"))\n",
    "        .show(truncate=False)\n",
    ")"
   ]
  }
 ],
 "metadata": {
  "kernelspec": {
   "display_name": ".venv",
   "language": "python",
   "name": "python3"
  },
  "language_info": {
   "codemirror_mode": {
    "name": "ipython",
    "version": 3
   },
   "file_extension": ".py",
   "mimetype": "text/x-python",
   "name": "python",
   "nbconvert_exporter": "python",
   "pygments_lexer": "ipython3",
   "version": "3.10.13"
  }
 },
 "nbformat": 4,
 "nbformat_minor": 2
}
